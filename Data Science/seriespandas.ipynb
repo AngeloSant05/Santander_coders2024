{
 "cells": [
  {
   "cell_type": "code",
   "execution_count": 1,
   "metadata": {},
   "outputs": [],
   "source": [
    "import pandas as pd\n"
   ]
  },
  {
   "cell_type": "code",
   "execution_count": 2,
   "metadata": {},
   "outputs": [],
   "source": [
    "\n",
    "notas = [7, 8, 5]\n",
    "serie_notas = pd.Series(notas)\n"
   ]
  },
  {
   "cell_type": "code",
   "execution_count": 7,
   "metadata": {},
   "outputs": [
    {
     "data": {
      "text/plain": [
       "0    7\n",
       "1    8\n",
       "2    5\n",
       "dtype: int64"
      ]
     },
     "execution_count": 7,
     "metadata": {},
     "output_type": "execute_result"
    }
   ],
   "source": [
    "print(serie_notas)"
   ]
  },
  {
   "cell_type": "code",
   "execution_count": 4,
   "metadata": {},
   "outputs": [],
   "source": [
    "\n",
    "notas_alunos = {\"Guilherme\": 7, \"Arthur\": 9, \"Clebson\": 5}\n",
    "serie_alunos = pd.Series(notas_alunos)\n"
   ]
  },
  {
   "cell_type": "code",
   "execution_count": 5,
   "metadata": {},
   "outputs": [
    {
     "name": "stdout",
     "output_type": "stream",
     "text": [
      "Guilherme    7\n",
      "Arthur       9\n",
      "Clebson      5\n",
      "dtype: int64\n"
     ]
    }
   ],
   "source": [
    "print(serie_alunos)"
   ]
  },
  {
   "cell_type": "code",
   "execution_count": 8,
   "metadata": {},
   "outputs": [
    {
     "name": "stdout",
     "output_type": "stream",
     "text": [
      "7.0\n",
      "7.0\n",
      "count    3.0\n",
      "mean     7.0\n",
      "std      2.0\n",
      "min      5.0\n",
      "25%      6.0\n",
      "50%      7.0\n",
      "75%      8.0\n",
      "max      9.0\n",
      "dtype: float64\n"
     ]
    }
   ],
   "source": [
    "print(serie_alunos.mean())\n",
    "print(serie_alunos.median())\n",
    "print(serie_alunos.describe())"
   ]
  }
 ],
 "metadata": {
  "kernelspec": {
   "display_name": "Python 3",
   "language": "python",
   "name": "python3"
  },
  "language_info": {
   "codemirror_mode": {
    "name": "ipython",
    "version": 3
   },
   "file_extension": ".py",
   "mimetype": "text/x-python",
   "name": "python",
   "nbconvert_exporter": "python",
   "pygments_lexer": "ipython3",
   "version": "3.12.3"
  }
 },
 "nbformat": 4,
 "nbformat_minor": 2
}
